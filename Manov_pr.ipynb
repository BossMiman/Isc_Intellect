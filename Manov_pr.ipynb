{
  "nbformat": 4,
  "nbformat_minor": 0,
  "metadata": {
    "colab": {
      "name": "Manov_pr",
      "provenance": [],
      "authorship_tag": "ABX9TyOwP2qlF8rpB2cDbYPyoEVz",
      "include_colab_link": true
    },
    "kernelspec": {
      "name": "python3",
      "display_name": "Python 3"
    }
  },
  "cells": [
    {
      "cell_type": "markdown",
      "metadata": {
        "id": "view-in-github",
        "colab_type": "text"
      },
      "source": [
        "<a href=\"https://colab.research.google.com/github/BossMiman/Isc_Intellect/blob/master/Manov_pr.ipynb\" target=\"_parent\"><img src=\"https://colab.research.google.com/assets/colab-badge.svg\" alt=\"Open In Colab\"/></a>"
      ]
    },
    {
      "cell_type": "markdown",
      "metadata": {
        "id": "vIXtyZJVxDxN",
        "colab_type": "text"
      },
      "source": [
        "# Распознавание рукописных цифр из набора данных MNIST с помощью Keras"
      ]
    },
    {
      "cell_type": "markdown",
      "metadata": {
        "id": "JvamejRHxMfi",
        "colab_type": "text"
      },
      "source": [
        "**Подключаем библиотеки**"
      ]
    },
    {
      "cell_type": "code",
      "metadata": {
        "id": "9bsaoB_7xQrp",
        "colab_type": "code",
        "colab": {}
      },
      "source": [
        "from tensorflow.keras.datasets import mnist\n",
        "from tensorflow.keras.models import Sequential\n",
        "from tensorflow.keras.layers import Dense\n",
        "from tensorflow.keras import utils\n",
        "from tensorflow.keras.preprocessing import image\n",
        "from google.colab import files\n",
        "import numpy as np\n",
        "import matplotlib.pyplot as plt\n",
        "from PIL import Image\n",
        "%matplotlib inline "
      ],
      "execution_count": 0,
      "outputs": []
    },
    {
      "cell_type": "markdown",
      "metadata": {
        "id": "f19ordUwxaxg",
        "colab_type": "text"
      },
      "source": [
        "**Подготовка и преобразование данных в удобный формат**"
      ]
    },
    {
      "cell_type": "code",
      "metadata": {
        "id": "KYN6so6Kxiju",
        "colab_type": "code",
        "colab": {
          "base_uri": "https://localhost:8080/",
          "height": 50
        },
        "outputId": "21e752b7-feb7-400a-f3ce-a3686111b22a"
      },
      "source": [
        "# в Keras встроены средства работы с популярными наборами данных\n",
        "(x_train_org, y_train_org), (x_test_org, y_test_org) = mnist.load_data()"
      ],
      "execution_count": 2,
      "outputs": [
        {
          "output_type": "stream",
          "text": [
            "Downloading data from https://storage.googleapis.com/tensorflow/tf-keras-datasets/mnist.npz\n",
            "11493376/11490434 [==============================] - 0s 0us/step\n"
          ],
          "name": "stdout"
        }
      ]
    },
    {
      "cell_type": "code",
      "metadata": {
        "id": "l1bl_gFExn-5",
        "colab_type": "code",
        "colab": {
          "base_uri": "https://localhost:8080/",
          "height": 265
        },
        "outputId": "52c24414-fdff-406d-ef9d-99962e374e61"
      },
      "source": [
        "# вот примерчик базы \n",
        "n = 12\n",
        "\n",
        "plt.imshow(Image.fromarray(x_train_org[n]).convert('RGBA'))\n",
        "plt.show()"
      ],
      "execution_count": 3,
      "outputs": [
        {
          "output_type": "display_data",
          "data": {
            "image/png": "[encoded data removed]",
            "text/plain": [
              "<Figure size 432x288 with 1 Axes>"
            ]
          },
          "metadata": {
            "tags": [],
            "needs_background": "light"
          }
        }
      ]
    },
    {
      "cell_type": "markdown",
      "metadata": {
        "id": "0LTVQaHkx12K",
        "colab_type": "text"
      },
      "source": [
        "**Преобразование в нужный формат**"
      ]
    },
    {
      "cell_type": "code",
      "metadata": {
        "id": "Suf37WU4x7Rk",
        "colab_type": "code",
        "colab": {}
      },
      "source": [
        "# Не к элементам а к полю\n",
        "x_train = x_train_org.reshape(60000, 784)\n",
        "x_test = x_test_org.reshape(10000, 784)"
      ],
      "execution_count": 0,
      "outputs": []
    },
    {
      "cell_type": "code",
      "metadata": {
        "id": "HcBv804cyHkb",
        "colab_type": "code",
        "colab": {}
      },
      "source": [
        "# Применяются к каждому элементу массива по отдельности\n",
        "x_train = x_train.astype('float32')\n",
        "x_train = x_train / 255\n",
        "x_test = x_test.astype('float32')\n",
        "x_test = x_test / 255 "
      ],
      "execution_count": 0,
      "outputs": []
    }
  ]
}