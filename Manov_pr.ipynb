{
  "nbformat": 4,
  "nbformat_minor": 0,
  "metadata": {
    "colab": {
      "name": "Manov_pr",
      "provenance": [],
      "authorship_tag": "ABX9TyNrRdZeEdj7bP3nlUkczj2a",
      "include_colab_link": true
    },
    "kernelspec": {
      "name": "python3",
      "display_name": "Python 3"
    }
  },
  "cells": [
    {
      "cell_type": "markdown",
      "metadata": {
        "id": "view-in-github",
        "colab_type": "text"
      },
      "source": [
        "<a href=\"https://colab.research.google.com/github/BossMiman/Isc_Intellect/blob/master/Manov_pr.ipynb\" target=\"_parent\"><img src=\"https://colab.research.google.com/assets/colab-badge.svg\" alt=\"Open In Colab\"/></a>"
      ]
    },
    {
      "cell_type": "markdown",
      "metadata": {
        "id": "vIXtyZJVxDxN",
        "colab_type": "text"
      },
      "source": [
        "# Распознавание рукописных цифр из набора данных MNIST с помощью Keras"
      ]
    },
    {
      "cell_type": "markdown",
      "metadata": {
        "id": "JvamejRHxMfi",
        "colab_type": "text"
      },
      "source": [
        "**Подключаем библиотеки**"
      ]
    },
    {
      "cell_type": "code",
      "metadata": {
        "id": "9bsaoB_7xQrp",
        "colab_type": "code",
        "colab": {}
      },
      "source": [
        "from tensorflow.keras.datasets import mnist\n",
        "from tensorflow.keras.models import Sequential\n",
        "from tensorflow.keras.layers import Dense\n",
        "from tensorflow.keras import utils\n",
        "from tensorflow.keras.preprocessing import image\n",
        "from google.colab import files\n",
        "import numpy as np\n",
        "import matplotlib.pyplot as plt\n",
        "from PIL import Image\n",
        "%matplotlib inline "
      ],
      "execution_count": 0,
      "outputs": []
    },
    {
      "cell_type": "markdown",
      "metadata": {
        "id": "f19ordUwxaxg",
        "colab_type": "text"
      },
      "source": [
        "**Подготовка и преобразование данных в удобный формат**"
      ]
    },
    {
      "cell_type": "code",
      "metadata": {
        "id": "KYN6so6Kxiju",
        "colab_type": "code",
        "outputId": "794a74f5-99a6-4b4c-cb53-90d33ad6e1a4",
        "colab": {
          "base_uri": "https://localhost:8080/",
          "height": 50
        }
      },
      "source": [
        "# в Keras встроены средства работы с популярными наборами данных\n",
        "(x_train_org, y_train_org), (x_test_org, y_test_org) = mnist.load_data()"
      ],
      "execution_count": 2,
      "outputs": [
        {
          "output_type": "stream",
          "text": [
            "Downloading data from https://storage.googleapis.com/tensorflow/tf-keras-datasets/mnist.npz\n",
            "11493376/11490434 [==============================] - 0s 0us/step\n"
          ],
          "name": "stdout"
        }
      ]
    },
    {
      "cell_type": "code",
      "metadata": {
        "id": "l1bl_gFExn-5",
        "colab_type": "code",
        "outputId": "8be94a94-62df-494e-fa62-825817eed1a6",
        "colab": {
          "base_uri": "https://localhost:8080/",
          "height": 265
        }
      },
      "source": [
        "# вот примерчик базы \n",
        "n = 12\n",
        "\n",
        "plt.imshow(Image.fromarray(x_train_org[n]).convert('RGBA'))\n",
        "plt.show()"
      ],
      "execution_count": 3,
      "outputs": [
        {
          "output_type": "display_data",
          "data": {
            "image/png": "[encoded data removed]",
            "text/plain": [
              "<Figure size 432x288 with 1 Axes>"
            ]
          },
          "metadata": {
            "tags": [],
            "needs_background": "light"
          }
        }
      ]
    },
    {
      "cell_type": "markdown",
      "metadata": {
        "id": "0LTVQaHkx12K",
        "colab_type": "text"
      },
      "source": [
        "**Преобразование в нужный формат**"
      ]
    },
    {
      "cell_type": "code",
      "metadata": {
        "id": "Suf37WU4x7Rk",
        "colab_type": "code",
        "colab": {}
      },
      "source": [
        "# Не к элементам а к полю\n",
        "x_train = x_train_org.reshape(60000, 784)\n",
        "x_test = x_test_org.reshape(10000, 784)"
      ],
      "execution_count": 0,
      "outputs": []
    },
    {
      "cell_type": "code",
      "metadata": {
        "id": "HcBv804cyHkb",
        "colab_type": "code",
        "colab": {}
      },
      "source": [
        "# Применяются к каждому элементу массива по отдельности\n",
        "x_train = x_train.astype('float32')\n",
        "x_train = x_train / 255\n",
        "x_test = x_test.astype('float32')\n",
        "x_test = x_test / 255 "
      ],
      "execution_count": 0,
      "outputs": []
    },
    {
      "cell_type": "markdown",
      "metadata": {
        "id": "U99LircLvNu6",
        "colab_type": "text"
      },
      "source": [
        "**Работа с данными**"
      ]
    },
    {
      "cell_type": "code",
      "metadata": {
        "id": "ubP29aaJvTVH",
        "colab_type": "code",
        "colab": {
          "base_uri": "https://localhost:8080/",
          "height": 34
        },
        "outputId": "3bbbe099-272c-41b5-fb9b-622b6f0604fc"
      },
      "source": [
        "# Мы сейчас проверили базу, и все хорошо(мы написали н из массива и удтвердили ей свое знгачение)\n",
        "print(y_train_org[n])"
      ],
      "execution_count": 6,
      "outputs": [
        {
          "output_type": "stream",
          "text": [
            "3\n"
          ],
          "name": "stdout"
        }
      ]
    },
    {
      "cell_type": "code",
      "metadata": {
        "id": "Bls9JH62vqVh",
        "colab_type": "code",
        "colab": {}
      },
      "source": [
        "# для нейронки\n",
        "y_train = utils.to_categorical(y_train_org, 10)\n",
        "y_test = utils.to_categorical(y_test_org, 10)"
      ],
      "execution_count": 0,
      "outputs": []
    },
    {
      "cell_type": "code",
      "metadata": {
        "id": "8QlG1z9EvyRj",
        "colab_type": "code",
        "colab": {
          "base_uri": "https://localhost:8080/",
          "height": 34
        },
        "outputId": "05d9856e-dfcc-4bc5-a560-4dd3800d4a90"
      },
      "source": [
        "print(y_train.shape)"
      ],
      "execution_count": 8,
      "outputs": [
        {
          "output_type": "stream",
          "text": [
            "(60000, 10)\n"
          ],
          "name": "stdout"
        }
      ]
    },
    {
      "cell_type": "code",
      "metadata": {
        "id": "J4QDAQvXv3bG",
        "colab_type": "code",
        "colab": {
          "base_uri": "https://localhost:8080/",
          "height": 34
        },
        "outputId": "fcbd7730-3416-467f-939b-0576e406c406"
      },
      "source": [
        "# Как нейронка выводит число? она сверяет с другими и вычисляет вероятность того или иного числа. Вот тут как раз округляется уже до целых, а так там все равно есть вероятность другого числа.\n",
        "print(y_train[n])"
      ],
      "execution_count": 9,
      "outputs": [
        {
          "output_type": "stream",
          "text": [
            "[0. 0. 0. 1. 0. 0. 0. 0. 0. 0.]\n"
          ],
          "name": "stdout"
        }
      ]
    },
    {
      "cell_type": "markdown",
      "metadata": {
        "id": "JTP5_M1dwS8s",
        "colab_type": "text"
      },
      "source": [
        "**Фух, данные подготовили, теперь пора нейронку писать**"
      ]
    },
    {
      "cell_type": "code",
      "metadata": {
        "id": "beDHQaANwbkP",
        "colab_type": "code",
        "colab": {}
      },
      "source": [
        "#модель нейронки (нейрон с нейроном связан по слоям)\n",
        "model = Sequential()"
      ],
      "execution_count": 0,
      "outputs": []
    },
    {
      "cell_type": "code",
      "metadata": {
        "id": "0X4XsDU4wkJi",
        "colab_type": "code",
        "colab": {}
      },
      "source": [
        "# сейчас мы создаем слои с колличеством нейронов и входами(каждый нейрон за какой-то участок)\n",
        "model.add(Dense(100, input_dim=784, activation=\"relu\"))\n",
        "model.add(Dense(20, activation=\"relu\"))\n",
        "model.add(Dense(10, activation=\"softmax\"))"
      ],
      "execution_count": 0,
      "outputs": []
    },
    {
      "cell_type": "code",
      "metadata": {
        "id": "FVCNURqGw8IS",
        "colab_type": "code",
        "colab": {
          "base_uri": "https://localhost:8080/",
          "height": 269
        },
        "outputId": "244057d5-8ebd-4564-f8b1-04c91093a28a"
      },
      "source": [
        "# ееее мы сделали каркас нейронки\n",
        "model.compile(loss=\"categorical_crossentropy\", optimizer=\"adam\", metrics=[\"accuracy\"])\n",
        "\n",
        "print(model.summary())"
      ],
      "execution_count": 12,
      "outputs": [
        {
          "output_type": "stream",
          "text": [
            "Model: \"sequential\"\n",
            "_________________________________________________________________\n",
            "Layer (type)                 Output Shape              Param #   \n",
            "=================================================================\n",
            "dense (Dense)                (None, 100)               78500     \n",
            "_________________________________________________________________\n",
            "dense_1 (Dense)              (None, 20)                2020      \n",
            "_________________________________________________________________\n",
            "dense_2 (Dense)              (None, 10)                210       \n",
            "=================================================================\n",
            "Total params: 80,730\n",
            "Trainable params: 80,730\n",
            "Non-trainable params: 0\n",
            "_________________________________________________________________\n",
            "None\n"
          ],
          "name": "stdout"
        }
      ]
    },
    {
      "cell_type": "markdown",
      "metadata": {
        "id": "VA0BfwubxCSw",
        "colab_type": "text"
      },
      "source": [
        "**Сейчас самое сложное - это обучение**"
      ]
    },
    {
      "cell_type": "code",
      "metadata": {
        "id": "CWFC802BxGqi",
        "colab_type": "code",
        "colab": {
          "base_uri": "https://localhost:8080/",
          "height": 202
        },
        "outputId": "d4c765e5-5ce3-4e18-b4f5-e3efe30f55fd"
      },
      "source": [
        "model.fit(x_train, y_train, batch_size=200, epochs=5,  verbose=1, validation_split=0.2)# значит так. x и y train понятно epoches это колличество проходов, verbose 1 знчт показываем как нейронка себя чувствует. валид сплит это точность прохода"
      ],
      "execution_count": 13,
      "outputs": [
        {
          "output_type": "stream",
          "text": [
            "Epoch 1/5\n",
            "240/240 [==============================] - 1s 5ms/step - loss: 0.5103 - accuracy: 0.8621 - val_loss: 0.2384 - val_accuracy: 0.9343\n",
            "Epoch 2/5\n",
            "240/240 [==============================] - 1s 4ms/step - loss: 0.2124 - accuracy: 0.9392 - val_loss: 0.1812 - val_accuracy: 0.9499\n",
            "Epoch 3/5\n",
            "240/240 [==============================] - 1s 4ms/step - loss: 0.1568 - accuracy: 0.9543 - val_loss: 0.1489 - val_accuracy: 0.9585\n",
            "Epoch 4/5\n",
            "240/240 [==============================] - 1s 4ms/step - loss: 0.1258 - accuracy: 0.9638 - val_loss: 0.1390 - val_accuracy: 0.9584\n",
            "Epoch 5/5\n",
            "240/240 [==============================] - 1s 4ms/step - loss: 0.1049 - accuracy: 0.9697 - val_loss: 0.1212 - val_accuracy: 0.9633\n"
          ],
          "name": "stdout"
        },
        {
          "output_type": "execute_result",
          "data": {
            "text/plain": [
              "<tensorflow.python.keras.callbacks.History at 0x7f917ab8acc0>"
            ]
          },
          "metadata": {
            "tags": []
          },
          "execution_count": 13
        }
      ]
    },
    {
      "cell_type": "markdown",
      "metadata": {
        "id": "63ZrjoAnx5CF",
        "colab_type": "text"
      },
      "source": [
        "loss и accuraty это когда нейронка ошибается и делает правильно( как раз наверху вероятность ) есть положительная динамика, хотя точность и без того высокая"
      ]
    }
  ]
}